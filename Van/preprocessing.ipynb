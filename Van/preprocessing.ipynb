{
 "cells": [
  {
   "cell_type": "code",
   "execution_count": 1,
   "metadata": {},
   "outputs": [],
   "source": [
    "import pandas as pd\n",
    "import numpy as np"
   ]
  },
  {
   "cell_type": "code",
   "execution_count": 2,
   "metadata": {},
   "outputs": [
    {
     "data": {
      "text/html": [
       "<div>\n",
       "<style scoped>\n",
       "    .dataframe tbody tr th:only-of-type {\n",
       "        vertical-align: middle;\n",
       "    }\n",
       "\n",
       "    .dataframe tbody tr th {\n",
       "        vertical-align: top;\n",
       "    }\n",
       "\n",
       "    .dataframe thead th {\n",
       "        text-align: right;\n",
       "    }\n",
       "</style>\n",
       "<table border=\"1\" class=\"dataframe\">\n",
       "  <thead>\n",
       "    <tr style=\"text-align: right;\">\n",
       "      <th></th>\n",
       "      <th>Age</th>\n",
       "      <th>Gender</th>\n",
       "      <th>Smoking Status</th>\n",
       "      <th>Lung Capacity</th>\n",
       "      <th>Disease Type</th>\n",
       "      <th>Treatment Type</th>\n",
       "      <th>Hospital Visits</th>\n",
       "      <th>Recovered</th>\n",
       "    </tr>\n",
       "  </thead>\n",
       "  <tbody>\n",
       "    <tr>\n",
       "      <th>0</th>\n",
       "      <td>71.0</td>\n",
       "      <td>Female</td>\n",
       "      <td>No</td>\n",
       "      <td>4.49</td>\n",
       "      <td>COPD</td>\n",
       "      <td>Therapy</td>\n",
       "      <td>14.0</td>\n",
       "      <td>Yes</td>\n",
       "    </tr>\n",
       "    <tr>\n",
       "      <th>1</th>\n",
       "      <td>34.0</td>\n",
       "      <td>Female</td>\n",
       "      <td>Yes</td>\n",
       "      <td>NaN</td>\n",
       "      <td>Bronchitis</td>\n",
       "      <td>Surgery</td>\n",
       "      <td>7.0</td>\n",
       "      <td>No</td>\n",
       "    </tr>\n",
       "    <tr>\n",
       "      <th>2</th>\n",
       "      <td>80.0</td>\n",
       "      <td>Male</td>\n",
       "      <td>Yes</td>\n",
       "      <td>1.95</td>\n",
       "      <td>COPD</td>\n",
       "      <td>NaN</td>\n",
       "      <td>4.0</td>\n",
       "      <td>Yes</td>\n",
       "    </tr>\n",
       "    <tr>\n",
       "      <th>3</th>\n",
       "      <td>40.0</td>\n",
       "      <td>Female</td>\n",
       "      <td>Yes</td>\n",
       "      <td>NaN</td>\n",
       "      <td>Bronchitis</td>\n",
       "      <td>Medication</td>\n",
       "      <td>1.0</td>\n",
       "      <td>No</td>\n",
       "    </tr>\n",
       "    <tr>\n",
       "      <th>4</th>\n",
       "      <td>43.0</td>\n",
       "      <td>Male</td>\n",
       "      <td>Yes</td>\n",
       "      <td>4.60</td>\n",
       "      <td>COPD</td>\n",
       "      <td>Surgery</td>\n",
       "      <td>NaN</td>\n",
       "      <td>Yes</td>\n",
       "    </tr>\n",
       "  </tbody>\n",
       "</table>\n",
       "</div>"
      ],
      "text/plain": [
       "    Age  Gender Smoking Status  Lung Capacity Disease Type Treatment Type  \\\n",
       "0  71.0  Female             No           4.49         COPD        Therapy   \n",
       "1  34.0  Female            Yes            NaN   Bronchitis        Surgery   \n",
       "2  80.0    Male            Yes           1.95         COPD            NaN   \n",
       "3  40.0  Female            Yes            NaN   Bronchitis     Medication   \n",
       "4  43.0    Male            Yes           4.60         COPD        Surgery   \n",
       "\n",
       "   Hospital Visits Recovered  \n",
       "0             14.0       Yes  \n",
       "1              7.0        No  \n",
       "2              4.0       Yes  \n",
       "3              1.0        No  \n",
       "4              NaN       Yes  "
      ]
     },
     "metadata": {},
     "output_type": "display_data"
    }
   ],
   "source": [
    "# Load the data\n",
    "df = pd.read_csv('../Data/lung_disease_data.csv')\n",
    "display(df.head())"
   ]
  },
  {
   "cell_type": "code",
   "execution_count": 3,
   "metadata": {},
   "outputs": [
    {
     "name": "stdout",
     "output_type": "stream",
     "text": [
      "(5200, 8)\n"
     ]
    }
   ],
   "source": [
    "# Size of data\n",
    "print(df.shape)"
   ]
  },
  {
   "cell_type": "code",
   "execution_count": 4,
   "metadata": {},
   "outputs": [
    {
     "name": "stdout",
     "output_type": "stream",
     "text": [
      "<class 'pandas.core.frame.DataFrame'>\n",
      "RangeIndex: 5200 entries, 0 to 5199\n",
      "Data columns (total 8 columns):\n",
      " #   Column           Non-Null Count  Dtype  \n",
      "---  ------           --------------  -----  \n",
      " 0   Age              4900 non-null   float64\n",
      " 1   Gender           4900 non-null   object \n",
      " 2   Smoking Status   4900 non-null   object \n",
      " 3   Lung Capacity    4900 non-null   float64\n",
      " 4   Disease Type     4900 non-null   object \n",
      " 5   Treatment Type   4900 non-null   object \n",
      " 6   Hospital Visits  4900 non-null   float64\n",
      " 7   Recovered        4900 non-null   object \n",
      "dtypes: float64(3), object(5)\n",
      "memory usage: 325.1+ KB\n"
     ]
    },
    {
     "data": {
      "text/plain": [
       "None"
      ]
     },
     "metadata": {},
     "output_type": "display_data"
    }
   ],
   "source": [
    "# Information about the data\n",
    "display(df.info())"
   ]
  },
  {
   "cell_type": "code",
   "execution_count": 5,
   "metadata": {},
   "outputs": [
    {
     "data": {
      "text/plain": [
       "Age                300\n",
       "Gender             300\n",
       "Smoking Status     300\n",
       "Lung Capacity      300\n",
       "Disease Type       300\n",
       "Treatment Type     300\n",
       "Hospital Visits    300\n",
       "Recovered          300\n",
       "dtype: int64"
      ]
     },
     "metadata": {},
     "output_type": "display_data"
    }
   ],
   "source": [
    "# Missing values count\n",
    "display(df.isnull().sum())"
   ]
  },
  {
   "cell_type": "code",
   "execution_count": 6,
   "metadata": {},
   "outputs": [
    {
     "name": "stderr",
     "output_type": "stream",
     "text": [
      "C:\\Users\\84793\\AppData\\Local\\Temp\\ipykernel_19380\\3142176098.py:10: FutureWarning: A value is trying to be set on a copy of a DataFrame or Series through chained assignment using an inplace method.\n",
      "The behavior will change in pandas 3.0. This inplace method will never work because the intermediate object on which we are setting values always behaves as a copy.\n",
      "\n",
      "For example, when doing 'df[col].method(value, inplace=True)', try using 'df.method({col: value}, inplace=True)' or df[col] = df[col].method(value) instead, to perform the operation inplace on the original object.\n",
      "\n",
      "\n",
      "  df[col].fillna(median, inplace=True)\n",
      "C:\\Users\\84793\\AppData\\Local\\Temp\\ipykernel_19380\\3142176098.py:10: FutureWarning: A value is trying to be set on a copy of a DataFrame or Series through chained assignment using an inplace method.\n",
      "The behavior will change in pandas 3.0. This inplace method will never work because the intermediate object on which we are setting values always behaves as a copy.\n",
      "\n",
      "For example, when doing 'df[col].method(value, inplace=True)', try using 'df.method({col: value}, inplace=True)' or df[col] = df[col].method(value) instead, to perform the operation inplace on the original object.\n",
      "\n",
      "\n",
      "  df[col].fillna(median, inplace=True)\n",
      "C:\\Users\\84793\\AppData\\Local\\Temp\\ipykernel_19380\\3142176098.py:10: FutureWarning: A value is trying to be set on a copy of a DataFrame or Series through chained assignment using an inplace method.\n",
      "The behavior will change in pandas 3.0. This inplace method will never work because the intermediate object on which we are setting values always behaves as a copy.\n",
      "\n",
      "For example, when doing 'df[col].method(value, inplace=True)', try using 'df.method({col: value}, inplace=True)' or df[col] = df[col].method(value) instead, to perform the operation inplace on the original object.\n",
      "\n",
      "\n",
      "  df[col].fillna(median, inplace=True)\n",
      "C:\\Users\\84793\\AppData\\Local\\Temp\\ipykernel_19380\\3142176098.py:16: FutureWarning: A value is trying to be set on a copy of a DataFrame or Series through chained assignment using an inplace method.\n",
      "The behavior will change in pandas 3.0. This inplace method will never work because the intermediate object on which we are setting values always behaves as a copy.\n",
      "\n",
      "For example, when doing 'df[col].method(value, inplace=True)', try using 'df.method({col: value}, inplace=True)' or df[col] = df[col].method(value) instead, to perform the operation inplace on the original object.\n",
      "\n",
      "\n",
      "  df[col].fillna(mode, inplace=True)\n"
     ]
    },
    {
     "data": {
      "text/plain": [
       "Age                0\n",
       "Gender             0\n",
       "Smoking Status     0\n",
       "Lung Capacity      0\n",
       "Disease Type       0\n",
       "Treatment Type     0\n",
       "Hospital Visits    0\n",
       "Recovered          0\n",
       "dtype: int64"
      ]
     },
     "metadata": {},
     "output_type": "display_data"
    }
   ],
   "source": [
    "# Data cleaning and preprocessing\n",
    "\n",
    "numeric_cols = ['Age', 'Lung Capacity', 'Hospital Visits']\n",
    "categorical_cols = ['Gender', 'Smoking Status', 'Disease Type', 'Treatment Type', 'Recovered']\n",
    "\n",
    "# Fill missing data in numeric columns with median\n",
    "for col in numeric_cols:\n",
    "    if df[col].isnull().sum() > 0:\n",
    "        median = df[col].median()\n",
    "        df[col].fillna(median, inplace=True)\n",
    "\n",
    "# Fill missing data in categorical columns with mode\n",
    "for col in categorical_cols:\n",
    "    if df[col].isnull().sum() > 0:\n",
    "        mode = df[col].mode()[0]\n",
    "        df[col].fillna(mode, inplace=True)\n",
    "\n",
    "# Check for missing values\n",
    "display(df.isnull().sum())"
   ]
  },
  {
   "cell_type": "code",
   "execution_count": 7,
   "metadata": {},
   "outputs": [],
   "source": [
    "# Translate to Vietnamese\n",
    "column_map = {\n",
    "    'Age': 'Tuổi',\n",
    "    'Gender': 'Giới Tính',\n",
    "    'Smoking Status': 'Tình Trạng Hút Thuốc',\n",
    "    'Lung Capacity': 'Dung Lượng Phổi',\n",
    "    'Disease Type': 'Loại Bệnh',\n",
    "    'Treatment Type': 'Loại Điều Trị',\n",
    "    'Hospital Visits': 'Số Lần Khám',\n",
    "    'Recovered': 'Phục Hồi'\n",
    "}\n",
    "\n",
    "# Đổi tên cột\n",
    "df.rename(columns=column_map, inplace=True)\n",
    "\n",
    "# Từ điển ánh xạ giá trị\n",
    "value_map = {\n",
    "    'Tình Trạng Hút Thuốc': {\n",
    "        'Yes': 'Có',\n",
    "        'No': 'Không'\n",
    "    },\n",
    "    'Giới Tính': {\n",
    "        'Male': 'Nam',\n",
    "        'Female': 'Nữ'\n",
    "    },\n",
    "    'Phục Hồi': {\n",
    "        'Yes': 'Có',\n",
    "        'No': 'Không'\n",
    "    },\n",
    "    'Loại Bệnh': {\n",
    "        'COPD': 'Bệnh Phổi Tắc Nghẽn Mãn Tính',\n",
    "        'Bronchitis': 'Viêm Phế Quản',\n",
    "        'Asthma': 'Hen Suyễn',\n",
    "        'Pneumonia': 'Viêm Phổi',\n",
    "        'Lung Cancer': 'Ung Thư Phổi'\n",
    "    },\n",
    "    'Loại Điều Trị': {\n",
    "        'Therapy': 'Liệu Pháp',\n",
    "        'Surgery': 'Phẫu Thuật',\n",
    "        'Medication': 'Thuốc',\n",
    "        # Thêm các loại điều trị khác nếu cần\n",
    "    }\n",
    "}\n",
    "\n",
    "# Áp dụng các thay đổi giá trị\n",
    "for column, mapping in value_map.items():\n",
    "    if column in df.columns:\n",
    "        df[column] = df[column].replace(mapping)"
   ]
  },
  {
   "cell_type": "code",
   "execution_count": 8,
   "metadata": {},
   "outputs": [],
   "source": [
    "# Save the cleaned data\n",
    "df.to_csv('lung_disease_data_cleaned.csv', index=False)"
   ]
  }
 ],
 "metadata": {
  "kernelspec": {
   "display_name": "Python 3",
   "language": "python",
   "name": "python3"
  },
  "language_info": {
   "codemirror_mode": {
    "name": "ipython",
    "version": 3
   },
   "file_extension": ".py",
   "mimetype": "text/x-python",
   "name": "python",
   "nbconvert_exporter": "python",
   "pygments_lexer": "ipython3",
   "version": "3.12.0"
  }
 },
 "nbformat": 4,
 "nbformat_minor": 2
}
