{
 "cells": [
  {
   "cell_type": "markdown",
   "metadata": {},
   "source": [
    "### **PREPROCESSING & CLEANING DATA**"
   ]
  },
  {
   "cell_type": "code",
   "execution_count": 2,
   "metadata": {},
   "outputs": [],
   "source": [
    "import pandas as pd\n",
    "import numpy as np"
   ]
  },
  {
   "cell_type": "code",
   "execution_count": 3,
   "metadata": {},
   "outputs": [
    {
     "name": "stdout",
     "output_type": "stream",
     "text": [
      "Thông tin dữ liệu ban đầu:\n",
      "\n",
      "<class 'pandas.core.frame.DataFrame'>\n",
      "RangeIndex: 5200 entries, 0 to 5199\n",
      "Data columns (total 8 columns):\n",
      " #   Column           Non-Null Count  Dtype  \n",
      "---  ------           --------------  -----  \n",
      " 0   Age              4900 non-null   float64\n",
      " 1   Gender           4900 non-null   object \n",
      " 2   Smoking Status   4900 non-null   object \n",
      " 3   Lung Capacity    4900 non-null   float64\n",
      " 4   Disease Type     4900 non-null   object \n",
      " 5   Treatment Type   4900 non-null   object \n",
      " 6   Hospital Visits  4900 non-null   float64\n",
      " 7   Recovered        4900 non-null   object \n",
      "dtypes: float64(3), object(5)\n",
      "memory usage: 325.1+ KB\n",
      "None\n",
      "\n",
      "5 dòng dữ liệu đầu tiên:\n",
      "\n",
      "    Age  Gender Smoking Status  Lung Capacity Disease Type Treatment Type  \\\n",
      "0  71.0  Female             No           4.49         COPD        Therapy   \n",
      "1  34.0  Female            Yes            NaN   Bronchitis        Surgery   \n",
      "2  80.0    Male            Yes           1.95         COPD            NaN   \n",
      "3  40.0  Female            Yes            NaN   Bronchitis     Medication   \n",
      "4  43.0    Male            Yes           4.60         COPD        Surgery   \n",
      "\n",
      "   Hospital Visits Recovered  \n",
      "0             14.0       Yes  \n",
      "1              7.0        No  \n",
      "2              4.0       Yes  \n",
      "3              1.0        No  \n",
      "4              NaN       Yes  \n",
      "\n",
      "Số lượng giá trị thiếu trên mỗi cột:\n",
      "\n",
      "Age                300\n",
      "Gender             300\n",
      "Smoking Status     300\n",
      "Lung Capacity      300\n",
      "Disease Type       300\n",
      "Treatment Type     300\n",
      "Hospital Visits    300\n",
      "Recovered          300\n",
      "dtype: int64\n",
      "\n",
      "--------------------------------------------------------\n",
      "\n"
     ]
    }
   ],
   "source": [
    "# 1. Đọc dữ liệu\n",
    "data = pd.read_csv('Data/lung_disease_data.csv')  # Đảm bảo đường dẫn chính xác\n",
    "\n",
    "# In thông tin cơ bản (giữ lại phần này để bạn kiểm tra)\n",
    "print(\"Thông tin dữ liệu ban đầu:\\n\")\n",
    "print(data.info())\n",
    "print(\"\\n5 dòng dữ liệu đầu tiên:\\n\")\n",
    "print(data.head())\n",
    "print(\"\\nSố lượng giá trị thiếu trên mỗi cột:\\n\")\n",
    "print(data.isnull().sum())\n",
    "print(\"\\n--------------------------------------------------------\\n\")\n"
   ]
  },
  {
   "cell_type": "code",
   "execution_count": 4,
   "metadata": {},
   "outputs": [
    {
     "name": "stdout",
     "output_type": "stream",
     "text": [
      "Số lượng dòng sau khi xóa trùng lặp: 5094\n",
      "\n",
      "Số lượng giá trị thiếu trên mỗi cột (sau xử lý missing):\n",
      "\n",
      "Age                300\n",
      "Gender               0\n",
      "Smoking Status       0\n",
      "Lung Capacity        0\n",
      "Disease Type         0\n",
      "Treatment Type       0\n",
      "Hospital Visits      0\n",
      "Recovered          300\n",
      "dtype: int64\n",
      "\n",
      "--------------------------------------------------------\n",
      "\n"
     ]
    }
   ],
   "source": [
    "# 2. Data Cleaning\n",
    "\n",
    "# 2.1 Xử lý dữ liệu bị thiếu\n",
    "\n",
    "# Hàm điền giá trị thiếu cho cột số bằng median\n",
    "def impute_numerical(df, column):\n",
    "    median_val = df[column].median()\n",
    "    df[column] = df[column].fillna(median_val)  # Gán kết quả trở lại cột\n",
    "\n",
    "def impute_categorical(df, column):\n",
    "    mode_val = df[column].mode()[0]\n",
    "    df[column] = df[column].fillna(mode_val)  # Gán kết quả trở lại cột\n",
    "\n",
    "# Áp dụng cho các cột tương ứng\n",
    "numerical_cols = ['Lung Capacity', 'Hospital Visits']\n",
    "categorical_cols = ['Gender', 'Smoking Status', 'Disease Type', 'Treatment Type']\n",
    "\n",
    "for col in numerical_cols:\n",
    "    impute_numerical(data, col)\n",
    "\n",
    "for col in categorical_cols:\n",
    "    impute_categorical(data, col)\n",
    "\n",
    "# 2.2 Xử lý dữ liệu trùng lặp\n",
    "data.drop_duplicates(inplace=True)\n",
    "print(f\"Số lượng dòng sau khi xóa trùng lặp: {len(data)}\")\n",
    "\n",
    "# 2.3 Chuẩn hóa dữ liệu category\n",
    "def standardize_text(df, column):\n",
    "    df[column] = df[column].str.strip().str.lower() #Loại bỏ khoảng trắng đầu cuối và viết thường\n",
    "    return df\n",
    "\n",
    "for col in categorical_cols:\n",
    "    data = standardize_text(data, col)\n",
    "\n",
    "print(\"\\nSố lượng giá trị thiếu trên mỗi cột (sau xử lý missing):\\n\")\n",
    "print(data.isnull().sum())\n",
    "print(\"\\n--------------------------------------------------------\\n\")"
   ]
  },
  {
   "cell_type": "code",
   "execution_count": 5,
   "metadata": {},
   "outputs": [],
   "source": [
    "# 3. Encoding biến phân loại (One-Hot Encoding)\n",
    "def one_hot_encode(df, column):\n",
    "    dummies = pd.get_dummies(df[column], prefix=column, dummy_na=False)  # dummy_na=False để không tạo cột cho NaN\n",
    "    df = pd.concat([df, dummies], axis=1)\n",
    "    df.drop(column, axis=1, inplace=True)\n",
    "    return df\n",
    "\n",
    "for col in categorical_cols:\n",
    "    data = one_hot_encode(data, col)\n",
    "    \n",
    "# Loại bỏ cột đầu tiên của one-hot encoding\n",
    "data.drop(data.filter(regex='_no$').columns, axis=1, inplace=True)"
   ]
  },
  {
   "cell_type": "code",
   "execution_count": 6,
   "metadata": {},
   "outputs": [],
   "source": [
    "# 4. Encoding biến mục tiêu (Recovered)\n",
    "data['Recovered'] = data['Recovered'].map({'yes': 1, 'no': 0}).fillna(0) # Điền NaN bằng 0"
   ]
  },
  {
   "cell_type": "code",
   "execution_count": 7,
   "metadata": {},
   "outputs": [],
   "source": [
    "# 5. Scaling/Normalization (Min-Max Scaling)\n",
    "def min_max_scale(df, column):\n",
    "    min_val = df[column].min()\n",
    "    max_val = df[column].max()\n",
    "    df[column] = (df[column] - min_val) / (max_val - min_val)\n",
    "\n",
    "for col in numerical_cols:\n",
    "    min_max_scale(data, col)\n"
   ]
  },
  {
   "cell_type": "code",
   "execution_count": 8,
   "metadata": {},
   "outputs": [],
   "source": [
    "# 6. Loại bỏ cột đầu tiên của one-hot encoding (tránh đa cộng tuyến)\n",
    "data.drop(data.filter(regex='_no$').columns, axis=1, inplace=True)\n"
   ]
  },
  {
   "cell_type": "code",
   "execution_count": 9,
   "metadata": {},
   "outputs": [],
   "source": [
    "# 7. Chuyển đổi kiểu dữ liệu Boolean sang Integer\n",
    "for col in data.columns:\n",
    "    if data[col].dtype == 'bool':\n",
    "        data[col] = data[col].astype(int)\n"
   ]
  },
  {
   "cell_type": "code",
   "execution_count": 10,
   "metadata": {},
   "outputs": [
    {
     "name": "stdout",
     "output_type": "stream",
     "text": [
      "Đã xuất file 'lung_disease_data_preprocessed.csv' vào thư mục Data.\n"
     ]
    }
   ],
   "source": [
    "# 8. Xuất ra file CSV\n",
    "data.to_csv('lung_disease_data_preprocessed.csv', index=False) # Lưu vào file mới\n",
    "print(\"Đã xuất file 'lung_disease_data_preprocessed.csv' vào thư mục Data.\")"
   ]
  }
 ],
 "metadata": {
  "kernelspec": {
   "display_name": "base",
   "language": "python",
   "name": "python3"
  },
  "language_info": {
   "codemirror_mode": {
    "name": "ipython",
    "version": 3
   },
   "file_extension": ".py",
   "mimetype": "text/x-python",
   "name": "python",
   "nbconvert_exporter": "python",
   "pygments_lexer": "ipython3",
   "version": "3.12.4"
  }
 },
 "nbformat": 4,
 "nbformat_minor": 2
}
