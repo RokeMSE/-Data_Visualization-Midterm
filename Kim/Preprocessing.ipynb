{
 "cells": [
  {
   "cell_type": "code",
   "execution_count": null,
   "metadata": {},
   "outputs": [],
   "source": [
    "# Import thư viện\n",
    "import pandas as pd\n",
    "import numpy as np"
   ]
  },
  {
   "cell_type": "markdown",
   "metadata": {},
   "source": [
    "## ĐỌC DỮ LIỆU"
   ]
  },
  {
   "cell_type": "code",
   "execution_count": 5,
   "metadata": {},
   "outputs": [],
   "source": [
    "file_path = '../Data/lung_disease_data.csv'\n",
    "df = pd.read_csv(file_path, skiprows=1, header=None)\n"
   ]
  },
  {
   "cell_type": "markdown",
   "metadata": {},
   "source": [
    "## HIỂN THỊ THÔNG TIN TỔNG QUAN VỀ DỮ LIỆU"
   ]
  },
  {
   "cell_type": "code",
   "execution_count": 7,
   "metadata": {},
   "outputs": [
    {
     "name": "stdout",
     "output_type": "stream",
     "text": [
      "Thông tin tổng quan: \n",
      "<class 'pandas.core.frame.DataFrame'>\n",
      "RangeIndex: 5200 entries, 0 to 5199\n",
      "Data columns (total 8 columns):\n",
      " #   Column           Non-Null Count  Dtype  \n",
      "---  ------           --------------  -----  \n",
      " 0   Age              4900 non-null   float64\n",
      " 1   Gender           4900 non-null   object \n",
      " 2   Smoking Status   4900 non-null   object \n",
      " 3   Lung Capacity    4900 non-null   float64\n",
      " 4   Disease Type     4900 non-null   object \n",
      " 5   Treatment Type   4900 non-null   object \n",
      " 6   Hospital Visits  4900 non-null   float64\n",
      " 7   Recovered        4900 non-null   object \n",
      "dtypes: float64(3), object(5)\n",
      "memory usage: 325.1+ KB\n",
      "\n",
      "Số lượng giá trị thiếu trong từng cột:\n",
      "Age                300\n",
      "Gender             300\n",
      "Smoking Status     300\n",
      "Lung Capacity      300\n",
      "Disease Type       300\n",
      "Treatment Type     300\n",
      "Hospital Visits    300\n",
      "Recovered          300\n",
      "dtype: int64\n"
     ]
    }
   ],
   "source": [
    "df.columns = [\"Age\", \"Gender\", \"Smoking Status\", \"Lung Capacity\", \"Disease Type\", \"Treatment Type\", \"Hospital Visits\", \"Recovered\"]\n",
    "print(\"Thông tin tổng quan: \")\n",
    "df.info()\n",
    "\n",
    "print(\"\\nSố lượng giá trị thiếu trong từng cột:\")\n",
    "print(df.isna().sum())"
   ]
  },
  {
   "cell_type": "markdown",
   "metadata": {},
   "source": [
    "## XỬ LÝ GIÁ TRỊ THIẾU\n",
    "\n",
    "### **Với các cột số: Điền giá trị trung vị (median)**\n"
   ]
  },
  {
   "cell_type": "code",
   "execution_count": 9,
   "metadata": {},
   "outputs": [],
   "source": [
    "num_cols = [\"Age\", \"Lung Capacity\", \"Hospital Visits\"]\n",
    "for col in num_cols:\n",
    "    df[col].fillna(df[col].median())"
   ]
  },
  {
   "cell_type": "markdown",
   "metadata": {},
   "source": [
    "### **Với các cột phân loại: Điền bằng mode**"
   ]
  },
  {
   "cell_type": "code",
   "execution_count": 20,
   "metadata": {},
   "outputs": [],
   "source": [
    "cat_cols = [\"Gender\", \"Smoking Status\", \"Disease Type\", \"Treatment Type\", \"Recovered\"]\n",
    "for col in cat_cols:\n",
    "    df[col] = df[col].fillna(df[col].mode()[0])"
   ]
  },
  {
   "cell_type": "code",
   "execution_count": 21,
   "metadata": {},
   "outputs": [
    {
     "name": "stdout",
     "output_type": "stream",
     "text": [
      "\n",
      "Số lượng giá trị thiếu sau khi xử lý:\n",
      "Age                0\n",
      "Gender             0\n",
      "Smoking Status     0\n",
      "Lung Capacity      0\n",
      "Disease Type       0\n",
      "Treatment Type     0\n",
      "Hospital Visits    0\n",
      "Recovered          0\n",
      "dtype: int64\n"
     ]
    }
   ],
   "source": [
    "print(\"\\nSố lượng giá trị thiếu sau khi xử lý:\")\n",
    "print(df.isna().sum())"
   ]
  },
  {
   "cell_type": "markdown",
   "metadata": {},
   "source": [
    "### **Kiểm tra dữ liệu ngoại lệ**"
   ]
  },
  {
   "cell_type": "code",
   "execution_count": 22,
   "metadata": {},
   "outputs": [
    {
     "name": "stdout",
     "output_type": "stream",
     "text": [
      "\n",
      "Số lượng dòng trùng lặp:  0\n"
     ]
    }
   ],
   "source": [
    "df.drop_duplicates(inplace=True)\n",
    "print(\"\\nSố lượng dòng trùng lặp: \", df.duplicated().sum())"
   ]
  },
  {
   "cell_type": "code",
   "execution_count": 23,
   "metadata": {},
   "outputs": [
    {
     "name": "stdout",
     "output_type": "stream",
     "text": [
      "\n",
      "Thông tin sau khi xử lý dữ liệu:\n",
      "<class 'pandas.core.frame.DataFrame'>\n",
      "Index: 5091 entries, 0 to 5194\n",
      "Data columns (total 8 columns):\n",
      " #   Column           Non-Null Count  Dtype  \n",
      "---  ------           --------------  -----  \n",
      " 0   Age              5091 non-null   float64\n",
      " 1   Gender           5091 non-null   object \n",
      " 2   Smoking Status   5091 non-null   object \n",
      " 3   Lung Capacity    5091 non-null   float64\n",
      " 4   Disease Type     5091 non-null   object \n",
      " 5   Treatment Type   5091 non-null   object \n",
      " 6   Hospital Visits  5091 non-null   float64\n",
      " 7   Recovered        5091 non-null   object \n",
      "dtypes: float64(3), object(5)\n",
      "memory usage: 358.0+ KB\n"
     ]
    }
   ],
   "source": [
    "print(\"\\nThông tin sau khi xử lý dữ liệu:\")\n",
    "df.info()"
   ]
  },
  {
   "cell_type": "code",
   "execution_count": 24,
   "metadata": {},
   "outputs": [
    {
     "name": "stdout",
     "output_type": "stream",
     "text": [
      "\n",
      "DataFrame sau khi tiền xử lý:\n",
      "    Age  Gender Smoking Status  Lung Capacity Disease Type Treatment Type  \\\n",
      "0  71.0  Female             No           4.49         COPD        Therapy   \n",
      "1  34.0  Female            Yes           3.48   Bronchitis        Surgery   \n",
      "2  80.0    Male            Yes           1.95         COPD     Medication   \n",
      "3  40.0  Female            Yes           3.48   Bronchitis     Medication   \n",
      "4  43.0    Male            Yes           4.60         COPD        Surgery   \n",
      "\n",
      "   Hospital Visits Recovered  \n",
      "0             14.0       Yes  \n",
      "1              7.0        No  \n",
      "2              4.0       Yes  \n",
      "3              1.0        No  \n",
      "4              8.0       Yes  \n"
     ]
    }
   ],
   "source": [
    "print(\"\\nDataFrame sau khi tiền xử lý:\")\n",
    "print(df.head())"
   ]
  },
  {
   "cell_type": "code",
   "execution_count": 26,
   "metadata": {},
   "outputs": [],
   "source": [
    "# Định nghĩa tên cột\n",
    "column_translation = {\n",
    "    'Age': 'Tuổi',\n",
    "    'Gender': 'Giới Tính',\n",
    "    'Smoking Status': 'Tình Trạng Hút Thuốc',\n",
    "    'Lung Capacity': 'Dung Lượng Phổi',\n",
    "    'Disease Type': 'Loại Bệnh',\n",
    "    'Treatment Type': 'Loại Điều Trị',\n",
    "    'Hospital Visits': 'Số Lần Khám',\n",
    "    'Recovered': 'Phục Hồi'\n",
    "}\n",
    "\n",
    "# Thực hiện đổi tên\n",
    "df.rename(columns=column_translation, inplace=True)\n",
    "\n",
    "value_translation = {\n",
    "    'Tình Trạng Hút Thuốc': {\n",
    "        'Yes': 'Có',\n",
    "        'No': 'Không'\n",
    "    },\n",
    "    'Giới Tính': {\n",
    "        'Male': 'Nam',\n",
    "        'Female': 'Nữ'\n",
    "    },\n",
    "    'Phục Hồi': {\n",
    "        'Yes': 'Có',\n",
    "        'No': 'Không'\n",
    "    },\n",
    "    'Loại Bệnh': {\n",
    "        'COPD': 'Bệnh Phổi Tắc Nghẽn Mãn Tính',\n",
    "        'Bronchitis': 'Viêm Phế Quản',\n",
    "        'Asthma': 'Hen Suyễn',\n",
    "        'Pneumonia': 'Viêm Phổi',\n",
    "        'Lung Cancer': 'Ung Thư Phổi'\n",
    "    },\n",
    "    'Loại Điều Trị': {\n",
    "        'Therapy': 'Liệu Pháp',\n",
    "        'Surgery': 'Phẫu Thuật',\n",
    "        'Medication': 'Thuốc',\n",
    "        # Thêm các loại điều trị khác nếu cần\n",
    "    }\n",
    "}\n",
    "\n",
    "# Áp dụng ánh xạ giá trị\n",
    "df.replace(value_translation, inplace=True)\n",
    "\n",
    "df.to_csv('lung_disease_data_cleaned.csv', index=False)"
   ]
  }
 ],
 "metadata": {
  "kernelspec": {
   "display_name": "min_ds-env",
   "language": "python",
   "name": "python3"
  },
  "language_info": {
   "codemirror_mode": {
    "name": "ipython",
    "version": 3
   },
   "file_extension": ".py",
   "mimetype": "text/x-python",
   "name": "python",
   "nbconvert_exporter": "python",
   "pygments_lexer": "ipython3",
   "version": "3.12.7"
  }
 },
 "nbformat": 4,
 "nbformat_minor": 2
}
